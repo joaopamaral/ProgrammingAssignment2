{
  "nbformat": 4,
  "nbformat_minor": 0,
  "metadata": {
    "colab": {
      "name": "examples",
      "provenance": [],
      "toc_visible": true,
      "include_colab_link": true
    },
    "kernelspec": {
      "name": "python3",
      "display_name": "Python 3"
    }
  },
  "cells": [
    {
      "cell_type": "markdown",
      "metadata": {
        "id": "view-in-github",
        "colab_type": "text"
      },
      "source": [
        "<a href=\"https://colab.research.google.com/github/joaopamaral/ProgrammingAssignment2/blob/master/examples.ipynb\" target=\"_parent\"><img src=\"https://colab.research.google.com/assets/colab-badge.svg\" alt=\"Open In Colab\"/></a>"
      ]
    },
    {
      "cell_type": "markdown",
      "metadata": {
        "id": "5eZQo7yKikfu",
        "colab_type": "text"
      },
      "source": [
        "# Entendendo o Framework DEAP"
      ]
    },
    {
      "cell_type": "markdown",
      "metadata": {
        "id": "WQgPD84Eiqnh",
        "colab_type": "text"
      },
      "source": [
        "## Instalando o pacote"
      ]
    },
    {
      "cell_type": "code",
      "metadata": {
        "id": "7kPznyDficB9",
        "colab_type": "code",
        "colab": {}
      },
      "source": [
        "!pip install -q deap"
      ],
      "execution_count": 0,
      "outputs": []
    },
    {
      "cell_type": "code",
      "metadata": {
        "id": "Y2HPqboHjQWD",
        "colab_type": "code",
        "colab": {}
      },
      "source": [
        "from pprint import pprint\n",
        "import numpy as np\n",
        "from deap import base, creator, tools, algorithms"
      ],
      "execution_count": 0,
      "outputs": []
    },
    {
      "cell_type": "markdown",
      "metadata": {
        "id": "HQdXuWe2oH7K",
        "colab_type": "text"
      },
      "source": [
        "## Tipos"
      ]
    },
    {
      "cell_type": "markdown",
      "metadata": {
        "id": "Xbr0-wREiwEy",
        "colab_type": "text"
      },
      "source": [
        "### Definindo Tipos - Fitness e Indivíduo"
      ]
    },
    {
      "cell_type": "code",
      "metadata": {
        "id": "JynCcvhrivJ7",
        "colab_type": "code",
        "colab": {}
      },
      "source": [
        "creator.create(\"FitnessMin\", base.Fitness, weights=(-1.0,))\n",
        "creator.create(\"Individual\", list, fitness=creator.FitnessMin)"
      ],
      "execution_count": 0,
      "outputs": []
    },
    {
      "cell_type": "code",
      "metadata": {
        "id": "j9LeT0G4i6KN",
        "colab_type": "code",
        "colab": {
          "base_uri": "https://localhost:8080/",
          "height": 51
        },
        "outputId": "9cc759bd-ce85-4f55-bf1e-c8d703c5781e"
      },
      "source": [
        "# checando os tipos criados\n",
        "ind_base = creator.Individual()\n",
        "\n",
        "print(type(ind_base), ind_base)\n",
        "print(type(ind_base.fitness), ind_base.fitness)"
      ],
      "execution_count": 4,
      "outputs": [
        {
          "output_type": "stream",
          "text": [
            "<class 'deap.creator.Individual'> []\n",
            "<class 'deap.creator.FitnessMin'> ()\n"
          ],
          "name": "stdout"
        }
      ]
    },
    {
      "cell_type": "markdown",
      "metadata": {
        "id": "SRAC03MRoFTG",
        "colab_type": "text"
      },
      "source": [
        "## Inicialização"
      ]
    },
    {
      "cell_type": "markdown",
      "metadata": {
        "id": "ans4C-i5jqfe",
        "colab_type": "text"
      },
      "source": [
        "### Inicializando indivíduo"
      ]
    },
    {
      "cell_type": "code",
      "metadata": {
        "id": "L_H6cR0NjfY_",
        "colab_type": "code",
        "colab": {}
      },
      "source": [
        "import random\n",
        "\n",
        "IND_SIZE = 10\n",
        "\n",
        "toolbox = base.Toolbox()\n",
        "toolbox.register('attr_hub', random.randint, 0, 5)\n",
        "toolbox.register('individual', tools.initRepeat, creator.Individual, toolbox.attr_hub, n=IND_SIZE)"
      ],
      "execution_count": 0,
      "outputs": []
    },
    {
      "cell_type": "code",
      "metadata": {
        "id": "sDXL_N_3kNs7",
        "colab_type": "code",
        "colab": {
          "base_uri": "https://localhost:8080/",
          "height": 51
        },
        "outputId": "dc22f316-fd66-441a-d630-048e740856c7"
      },
      "source": [
        "# testando individuo\n",
        "ind = toolbox.individual()\n",
        "\n",
        "print(type(ind), ind)\n",
        "print(type(ind.fitness), ind.fitness, 'Evaluated' if ind.fitness.valid else 'Not Evaluated')"
      ],
      "execution_count": 6,
      "outputs": [
        {
          "output_type": "stream",
          "text": [
            "<class 'deap.creator.Individual'> [2, 5, 4, 0, 5, 5, 5, 5, 2, 5]\n",
            "<class 'deap.creator.FitnessMin'> () Not Evaluated\n"
          ],
          "name": "stdout"
        }
      ]
    },
    {
      "cell_type": "markdown",
      "metadata": {
        "id": "BvxZqIT-lkJL",
        "colab_type": "text"
      },
      "source": [
        "#### Exemplo permutação"
      ]
    },
    {
      "cell_type": "code",
      "metadata": {
        "id": "bETcSU3Tk8PV",
        "colab_type": "code",
        "colab": {}
      },
      "source": [
        "toolbox.register('indices', random.sample, range(IND_SIZE), IND_SIZE)\n",
        "toolbox.register('individual_perm', tools.initIterate, creator.Individual, toolbox.indices)"
      ],
      "execution_count": 0,
      "outputs": []
    },
    {
      "cell_type": "code",
      "metadata": {
        "id": "kfuS85xomCS7",
        "colab_type": "code",
        "colab": {
          "base_uri": "https://localhost:8080/",
          "height": 51
        },
        "outputId": "229b542e-b7c1-441b-a280-654bcd9a5c60"
      },
      "source": [
        "# testando inidividuo de permutação\n",
        "ind_perm = toolbox.individual_perm()\n",
        "\n",
        "print(type(ind_perm), ind_perm)\n",
        "print(type(ind_perm.fitness), ind_perm.fitness, 'Evaluated' if ind_perm.fitness.valid else 'Not Evaluated')"
      ],
      "execution_count": 8,
      "outputs": [
        {
          "output_type": "stream",
          "text": [
            "<class 'deap.creator.Individual'> [5, 3, 7, 1, 9, 8, 2, 0, 4, 6]\n",
            "<class 'deap.creator.FitnessMin'> () Not Evaluated\n"
          ],
          "name": "stdout"
        }
      ]
    },
    {
      "cell_type": "markdown",
      "metadata": {
        "id": "tofSbj5zoMQ6",
        "colab_type": "text"
      },
      "source": [
        "### Inicializando População"
      ]
    },
    {
      "cell_type": "code",
      "metadata": {
        "id": "eC-x6ITsmFdN",
        "colab_type": "code",
        "colab": {}
      },
      "source": [
        "toolbox.register('population', tools.initRepeat, list, toolbox.individual)"
      ],
      "execution_count": 0,
      "outputs": []
    },
    {
      "cell_type": "code",
      "metadata": {
        "id": "-eB5b5mYoW6s",
        "colab_type": "code",
        "colab": {
          "base_uri": "https://localhost:8080/",
          "height": 289
        },
        "outputId": "b34c1b6c-5a62-4884-9397-e95fd5315ea3"
      },
      "source": [
        "# testando população\n",
        "population = toolbox.population(n=15)\n",
        "\n",
        "pprint(population)\n",
        "print(type(population), type(population[0]))"
      ],
      "execution_count": 10,
      "outputs": [
        {
          "output_type": "stream",
          "text": [
            "[[0, 5, 3, 2, 1, 0, 5, 4, 3, 1],\n",
            " [2, 4, 0, 4, 1, 4, 4, 5, 4, 5],\n",
            " [2, 1, 5, 0, 4, 2, 0, 1, 2, 3],\n",
            " [3, 0, 1, 2, 3, 2, 4, 5, 3, 5],\n",
            " [3, 3, 2, 2, 5, 4, 5, 2, 3, 3],\n",
            " [3, 1, 2, 4, 4, 0, 3, 1, 3, 1],\n",
            " [3, 3, 0, 4, 2, 5, 3, 2, 1, 3],\n",
            " [0, 1, 0, 0, 4, 5, 3, 0, 4, 1],\n",
            " [4, 2, 3, 5, 3, 2, 1, 1, 1, 3],\n",
            " [4, 0, 4, 4, 1, 4, 0, 1, 4, 0],\n",
            " [0, 3, 0, 0, 5, 1, 1, 4, 2, 1],\n",
            " [2, 3, 2, 5, 0, 3, 5, 4, 1, 1],\n",
            " [4, 1, 3, 1, 1, 0, 5, 4, 0, 2],\n",
            " [3, 0, 3, 4, 1, 1, 1, 1, 2, 5],\n",
            " [5, 1, 3, 4, 5, 0, 0, 1, 1, 4]]\n",
            "<class 'list'> <class 'deap.creator.Individual'>\n"
          ],
          "name": "stdout"
        }
      ]
    },
    {
      "cell_type": "markdown",
      "metadata": {
        "id": "12uRCsbIT-SK",
        "colab_type": "text"
      },
      "source": [
        "## Operadores"
      ]
    },
    {
      "cell_type": "markdown",
      "metadata": {
        "id": "xRr6ZyqYUAuB",
        "colab_type": "text"
      },
      "source": [
        "### Cruzamento"
      ]
    },
    {
      "cell_type": "code",
      "metadata": {
        "id": "VY1bN1bRonbM",
        "colab_type": "code",
        "colab": {
          "base_uri": "https://localhost:8080/",
          "height": 51
        },
        "outputId": "63e3adc1-ac14-49c0-d7e6-c43c1de51f80"
      },
      "source": [
        "ind1 = toolbox.individual()\n",
        "ind2 = toolbox.individual()\n",
        "\n",
        "print('Individuo 1: ', ind1)\n",
        "print('Individuo 2: ', ind2)\n",
        "\n",
        "def compare_ind(i1, i2):\n",
        "    return ['-' if a == b else 'x' for a, b in zip(i1, i2)]"
      ],
      "execution_count": 11,
      "outputs": [
        {
          "output_type": "stream",
          "text": [
            "Individuo 1:  [1, 0, 5, 0, 4, 1, 1, 4, 1, 0]\n",
            "Individuo 2:  [2, 4, 4, 5, 3, 4, 4, 3, 3, 3]\n"
          ],
          "name": "stdout"
        }
      ]
    },
    {
      "cell_type": "code",
      "metadata": {
        "id": "k8k-5Yzpy89e",
        "colab_type": "code",
        "colab": {
          "base_uri": "https://localhost:8080/",
          "height": 272
        },
        "outputId": "29c164c1-9e0e-4abb-f6c2-139defae61d7"
      },
      "source": [
        "child1, child2 = map(toolbox.clone, [ind1, ind2])\n",
        "child1, child2 = tools.cxOnePoint(child1, child2)\n",
        "print('\\n\\ncxOnePoint')\n",
        "print('Child1: ', child1, compare_ind(child1, ind1))\n",
        "print('Child2: ', child2, compare_ind(child2, ind2))\n",
        "\n",
        "print('\\n\\ncxTwoPoint')\n",
        "child1, child2 = map(toolbox.clone, [ind1, ind2])\n",
        "child1, child2 = tools.cxTwoPoint(child1, child2)\n",
        "print('Child1: ', child1, compare_ind(child1, ind1))\n",
        "print('Child2: ', child2, compare_ind(child2, ind2))\n",
        "\n",
        "print('\\n\\ncxUniform')\n",
        "child1, child2 = map(toolbox.clone, [ind1, ind2])\n",
        "child1, child2 = tools.cxUniform(child1, child2, indpb=0.1)\n",
        "print('Child1: ', child1, compare_ind(child1, ind1))\n",
        "print('Child2: ', child2, compare_ind(child2, ind2))"
      ],
      "execution_count": 12,
      "outputs": [
        {
          "output_type": "stream",
          "text": [
            "\n",
            "\n",
            "cxOnePoint\n",
            "Child1:  [1, 0, 5, 0, 4, 1, 1, 4, 1, 3] ['-', '-', '-', '-', '-', '-', '-', '-', '-', 'x']\n",
            "Child2:  [2, 4, 4, 5, 3, 4, 4, 3, 3, 0] ['-', '-', '-', '-', '-', '-', '-', '-', '-', 'x']\n",
            "\n",
            "\n",
            "cxTwoPoint\n",
            "Child1:  [1, 0, 5, 0, 3, 4, 4, 3, 1, 0] ['-', '-', '-', '-', 'x', 'x', 'x', 'x', '-', '-']\n",
            "Child2:  [2, 4, 4, 5, 4, 1, 1, 4, 3, 3] ['-', '-', '-', '-', 'x', 'x', 'x', 'x', '-', '-']\n",
            "\n",
            "\n",
            "cxUniform\n",
            "Child1:  [1, 0, 5, 0, 4, 1, 4, 4, 1, 0] ['-', '-', '-', '-', '-', '-', 'x', '-', '-', '-']\n",
            "Child2:  [2, 4, 4, 5, 3, 4, 1, 3, 3, 3] ['-', '-', '-', '-', '-', '-', 'x', '-', '-', '-']\n"
          ],
          "name": "stdout"
        }
      ]
    },
    {
      "cell_type": "code",
      "metadata": {
        "id": "GkajE4tsh8Am",
        "colab_type": "code",
        "colab": {}
      },
      "source": [
        "# Registrando o operador de cruzamento na toolbox\n",
        "toolbox.register(\"mate\", tools.cxTwoPoint)"
      ],
      "execution_count": 0,
      "outputs": []
    },
    {
      "cell_type": "markdown",
      "metadata": {
        "id": "D7FgaaPhi9aD",
        "colab_type": "text"
      },
      "source": [
        "### Mutação"
      ]
    },
    {
      "cell_type": "code",
      "metadata": {
        "id": "mZmE-sNOcFDC",
        "colab_type": "code",
        "colab": {
          "base_uri": "https://localhost:8080/",
          "height": 34
        },
        "outputId": "95c0213b-82e1-4758-a84a-87d5046bd08e"
      },
      "source": [
        "ind1 = toolbox.individual()\n",
        "\n",
        "print('Individuo 1: ', ind1)"
      ],
      "execution_count": 14,
      "outputs": [
        {
          "output_type": "stream",
          "text": [
            "Individuo 1:  [0, 3, 4, 2, 0, 0, 0, 3, 2, 0]\n"
          ],
          "name": "stdout"
        }
      ]
    },
    {
      "cell_type": "code",
      "metadata": {
        "id": "v4c_Ntn_zBfh",
        "colab_type": "code",
        "colab": {
          "base_uri": "https://localhost:8080/",
          "height": 309
        },
        "outputId": "27ccdfd4-b5fe-4be8-f087-5a0501ec34de"
      },
      "source": [
        "child1 = toolbox.clone(ind1)\n",
        "child1 = tools.mutGaussian(child1, mu=2, sigma=2, indpb=0.5)[0]\n",
        "print('\\n\\nmutGaussian')\n",
        "print('Child1: ', child1, compare_ind(child1, ind1))\n",
        "\n",
        "child1 = toolbox.clone(ind1)\n",
        "child1 = tools.mutShuffleIndexes(child1, indpb=0.5)[0]\n",
        "print('\\n\\nmutShuffleIndexes')\n",
        "print('Child1: ', child1, compare_ind(child1, ind1))\n",
        "\n",
        "child1 = toolbox.clone(ind1)\n",
        "child1 = tools.mutFlipBit(child1, indpb=0.5)[0]\n",
        "print('\\n\\nmutFlipBit')\n",
        "print('Child1: ', child1, compare_ind(child1, ind1))\n",
        "\n",
        "child1 = toolbox.clone(ind1)\n",
        "child1 = tools.mutUniformInt(child1, low=0, up= 5, indpb=0.5)[0]\n",
        "print('\\n\\nmutUniformInt')\n",
        "print('Child1: ', child1, compare_ind(child1, ind1))"
      ],
      "execution_count": 15,
      "outputs": [
        {
          "output_type": "stream",
          "text": [
            "\n",
            "\n",
            "mutGaussian\n",
            "Child1:  [0, 7.447819838774484, 2.713617077874732, 2, 1.5435499482570672, 0, -1.8275034140811104, 3, 4.394591748752674, 1.9853601319284906] ['-', 'x', 'x', '-', 'x', '-', 'x', '-', 'x', 'x']\n",
            "\n",
            "\n",
            "mutShuffleIndexes\n",
            "Child1:  [2, 3, 4, 0, 0, 0, 0, 3, 0, 2] ['x', '-', '-', 'x', '-', '-', '-', '-', 'x', 'x']\n",
            "\n",
            "\n",
            "mutFlipBit\n",
            "Child1:  [0, 3, 4, 2, 1, 1, 0, 0, 0, 0] ['-', '-', '-', '-', 'x', 'x', '-', 'x', 'x', '-']\n",
            "\n",
            "\n",
            "mutUniformInt\n",
            "Child1:  [2, 3, 0, 2, 0, 0, 0, 5, 0, 0] ['x', '-', 'x', '-', '-', '-', '-', 'x', 'x', '-']\n"
          ],
          "name": "stdout"
        }
      ]
    },
    {
      "cell_type": "code",
      "metadata": {
        "id": "QAyOAihDjhy1",
        "colab_type": "code",
        "colab": {}
      },
      "source": [
        "# Registrando o operador de cruzamento na toolbox\n",
        "toolbox.register(\"mutate\", tools.mutUniformInt, low=0, up=5, indpb=0.1)"
      ],
      "execution_count": 0,
      "outputs": []
    },
    {
      "cell_type": "markdown",
      "metadata": {
        "id": "-9tMg_ogqv9o",
        "colab_type": "text"
      },
      "source": [
        "## Avaliação"
      ]
    },
    {
      "cell_type": "code",
      "metadata": {
        "id": "Ddwm9Khimhtw",
        "colab_type": "code",
        "colab": {
          "base_uri": "https://localhost:8080/",
          "height": 85
        },
        "outputId": "528f8618-1fbd-412b-d51f-8802fd5c0863"
      },
      "source": [
        "ind1 = toolbox.individual()\n",
        "print('Individuo 1: ', ind1)\n",
        "\n",
        "def my_evaluation1(individual):\n",
        "    return sum(individual), \n",
        "\n",
        "print(f'\\nEvaluated Fitness: {ind1.fitness.valid}')\n",
        "ind1.fitness.values = my_evaluation1(ind1)\n",
        "print(f'Evaluated Fitness: {ind1.fitness.valid} | Value: {ind1.fitness}')"
      ],
      "execution_count": 17,
      "outputs": [
        {
          "output_type": "stream",
          "text": [
            "Individuo 1:  [2, 4, 0, 5, 2, 0, 3, 2, 0, 0]\n",
            "\n",
            "Evaluated Fitness: False\n",
            "Evaluated Fitness: True | Value: (18.0,)\n"
          ],
          "name": "stdout"
        }
      ]
    },
    {
      "cell_type": "code",
      "metadata": {
        "id": "LH_IVUnLxgjV",
        "colab_type": "code",
        "colab": {}
      },
      "source": [
        "# Registrando o operador de avaliação na toolbox\n",
        "toolbox.register(\"evaluate\", my_evaluation1)"
      ],
      "execution_count": 0,
      "outputs": []
    },
    {
      "cell_type": "markdown",
      "metadata": {
        "id": "NYOE3sGI0AHs",
        "colab_type": "text"
      },
      "source": [
        "## Seleção"
      ]
    },
    {
      "cell_type": "code",
      "metadata": {
        "id": "bL9Ce0A0zaSR",
        "colab_type": "code",
        "colab": {
          "base_uri": "https://localhost:8080/",
          "height": 833
        },
        "outputId": "9b37788f-be5d-446b-d21d-2734be1993a3"
      },
      "source": [
        "population = toolbox.population(n=15)\n",
        "for individual in population:\n",
        "    individual.fitness.values = my_evaluation1(individual)\n",
        "\n",
        "def print_pop_fit(pop):\n",
        "    pprint([[individual, individual.fitness.values] for individual in pop])\n",
        "\n",
        "\n",
        "print('População:')\n",
        "print_pop_fit(population)\n",
        "\n",
        "print('\\n\\nselTournament:')\n",
        "print_pop_fit(tools.selTournament(population, k=5, tournsize=3))\n",
        "\n",
        "print('\\n\\nselRoulette:')\n",
        "print_pop_fit(tools.selRoulette(population, k=5))\n",
        "\n",
        "print('\\n\\nselBest:')\n",
        "print_pop_fit(tools.selBest(population, k=5))\n",
        "\n",
        "print('\\n\\nselWorst:')\n",
        "print_pop_fit(tools.selWorst(population, k=5))"
      ],
      "execution_count": 21,
      "outputs": [
        {
          "output_type": "stream",
          "text": [
            "População:\n",
            "[[[1, 0, 1, 3, 3, 0, 1, 1, 3, 1], (14.0,)],\n",
            " [[3, 2, 1, 3, 5, 4, 4, 1, 2, 1], (26.0,)],\n",
            " [[2, 1, 2, 0, 5, 3, 3, 3, 2, 2], (23.0,)],\n",
            " [[5, 2, 3, 0, 1, 0, 0, 4, 3, 0], (18.0,)],\n",
            " [[4, 0, 4, 4, 2, 3, 3, 1, 2, 4], (27.0,)],\n",
            " [[3, 3, 3, 0, 1, 2, 4, 2, 2, 5], (25.0,)],\n",
            " [[0, 3, 0, 2, 1, 3, 4, 1, 3, 1], (18.0,)],\n",
            " [[2, 5, 0, 3, 2, 3, 1, 2, 2, 4], (24.0,)],\n",
            " [[1, 0, 5, 5, 5, 5, 1, 4, 2, 0], (28.0,)],\n",
            " [[0, 1, 4, 5, 0, 3, 4, 1, 2, 3], (23.0,)],\n",
            " [[1, 3, 5, 2, 5, 4, 2, 5, 3, 2], (32.0,)],\n",
            " [[3, 3, 3, 1, 0, 3, 5, 0, 3, 5], (26.0,)],\n",
            " [[0, 0, 3, 4, 1, 5, 2, 2, 3, 1], (21.0,)],\n",
            " [[1, 1, 2, 2, 3, 2, 4, 3, 2, 0], (20.0,)],\n",
            " [[0, 4, 1, 2, 0, 4, 4, 2, 0, 4], (21.0,)]]\n",
            "\n",
            "\n",
            "selTournament:\n",
            "[[[5, 2, 3, 0, 1, 0, 0, 4, 3, 0], (18.0,)],\n",
            " [[0, 4, 1, 2, 0, 4, 4, 2, 0, 4], (21.0,)],\n",
            " [[1, 0, 1, 3, 3, 0, 1, 1, 3, 1], (14.0,)],\n",
            " [[0, 4, 1, 2, 0, 4, 4, 2, 0, 4], (21.0,)],\n",
            " [[1, 0, 1, 3, 3, 0, 1, 1, 3, 1], (14.0,)]]\n",
            "\n",
            "\n",
            "selRoulette:\n",
            "[[[2, 5, 0, 3, 2, 3, 1, 2, 2, 4], (24.0,)],\n",
            " [[0, 1, 4, 5, 0, 3, 4, 1, 2, 3], (23.0,)],\n",
            " [[1, 1, 2, 2, 3, 2, 4, 3, 2, 0], (20.0,)],\n",
            " [[3, 3, 3, 0, 1, 2, 4, 2, 2, 5], (25.0,)],\n",
            " [[1, 1, 2, 2, 3, 2, 4, 3, 2, 0], (20.0,)]]\n",
            "\n",
            "\n",
            "selBest:\n",
            "[[[1, 0, 1, 3, 3, 0, 1, 1, 3, 1], (14.0,)],\n",
            " [[5, 2, 3, 0, 1, 0, 0, 4, 3, 0], (18.0,)],\n",
            " [[0, 3, 0, 2, 1, 3, 4, 1, 3, 1], (18.0,)],\n",
            " [[1, 1, 2, 2, 3, 2, 4, 3, 2, 0], (20.0,)],\n",
            " [[0, 0, 3, 4, 1, 5, 2, 2, 3, 1], (21.0,)]]\n",
            "\n",
            "\n",
            "selWorst:\n",
            "[[[1, 3, 5, 2, 5, 4, 2, 5, 3, 2], (32.0,)],\n",
            " [[1, 0, 5, 5, 5, 5, 1, 4, 2, 0], (28.0,)],\n",
            " [[4, 0, 4, 4, 2, 3, 3, 1, 2, 4], (27.0,)],\n",
            " [[3, 2, 1, 3, 5, 4, 4, 1, 2, 1], (26.0,)],\n",
            " [[3, 3, 3, 1, 0, 3, 5, 0, 3, 5], (26.0,)]]\n"
          ],
          "name": "stdout"
        }
      ]
    },
    {
      "cell_type": "code",
      "metadata": {
        "id": "M5BOqkvU0a9y",
        "colab_type": "code",
        "colab": {}
      },
      "source": [
        ""
      ],
      "execution_count": 0,
      "outputs": []
    }
  ]
}