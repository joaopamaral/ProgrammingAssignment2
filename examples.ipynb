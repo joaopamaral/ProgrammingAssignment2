{
  "nbformat": 4,
  "nbformat_minor": 0,
  "metadata": {
    "colab": {
      "name": "examples",
      "provenance": [],
      "toc_visible": true,
      "include_colab_link": true
    },
    "kernelspec": {
      "name": "python3",
      "display_name": "Python 3"
    }
  },
  "cells": [
    {
      "cell_type": "markdown",
      "metadata": {
        "id": "view-in-github",
        "colab_type": "text"
      },
      "source": [
        "<a href=\"https://colab.research.google.com/github/joaopamaral/ProgrammingAssignment2/blob/master/examples.ipynb\" target=\"_parent\"><img src=\"https://colab.research.google.com/assets/colab-badge.svg\" alt=\"Open In Colab\"/></a>"
      ]
    },
    {
      "cell_type": "markdown",
      "metadata": {
        "id": "5eZQo7yKikfu",
        "colab_type": "text"
      },
      "source": [
        "# Entendendo o Framework DEAP"
      ]
    },
    {
      "cell_type": "markdown",
      "metadata": {
        "id": "WQgPD84Eiqnh",
        "colab_type": "text"
      },
      "source": [
        "## Instalando o pacote"
      ]
    },
    {
      "cell_type": "code",
      "metadata": {
        "id": "7kPznyDficB9",
        "colab_type": "code",
        "colab": {}
      },
      "source": [
        "!pip install -q deap"
      ],
      "execution_count": 0,
      "outputs": []
    },
    {
      "cell_type": "code",
      "metadata": {
        "id": "Y2HPqboHjQWD",
        "colab_type": "code",
        "colab": {}
      },
      "source": [
        "from pprint import pprint\n",
        "from deap import base, creator, tools"
      ],
      "execution_count": 0,
      "outputs": []
    },
    {
      "cell_type": "markdown",
      "metadata": {
        "id": "HQdXuWe2oH7K",
        "colab_type": "text"
      },
      "source": [
        "## Tipos"
      ]
    },
    {
      "cell_type": "markdown",
      "metadata": {
        "id": "Xbr0-wREiwEy",
        "colab_type": "text"
      },
      "source": [
        "### Definindo Tipos - Fitness e Indivíduo"
      ]
    },
    {
      "cell_type": "code",
      "metadata": {
        "id": "JynCcvhrivJ7",
        "colab_type": "code",
        "colab": {}
      },
      "source": [
        "creator.create(\"FitnessMin\", base.Fitness, weights=(-1.0,))\n",
        "creator.create(\"Individual\", list, fitness=creator.FitnessMin)"
      ],
      "execution_count": 0,
      "outputs": []
    },
    {
      "cell_type": "code",
      "metadata": {
        "id": "j9LeT0G4i6KN",
        "colab_type": "code",
        "colab": {
          "base_uri": "https://localhost:8080/",
          "height": 51
        },
        "outputId": "d4111048-5ae9-4338-8f06-6a01039f0eca"
      },
      "source": [
        "ind_base = creator.Individual()\n",
        "\n",
        "print(type(ind_base), ind_base)\n",
        "print(type(ind_base.fitness), ind_base.fitness)"
      ],
      "execution_count": 18,
      "outputs": [
        {
          "output_type": "stream",
          "text": [
            "<class 'deap.creator.Individual'> []\n",
            "<class 'deap.creator.FitnessMin'> ()\n"
          ],
          "name": "stdout"
        }
      ]
    },
    {
      "cell_type": "markdown",
      "metadata": {
        "id": "SRAC03MRoFTG",
        "colab_type": "text"
      },
      "source": [
        "## Inicialização"
      ]
    },
    {
      "cell_type": "markdown",
      "metadata": {
        "id": "ans4C-i5jqfe",
        "colab_type": "text"
      },
      "source": [
        "### Inicializando indivíduo"
      ]
    },
    {
      "cell_type": "code",
      "metadata": {
        "id": "L_H6cR0NjfY_",
        "colab_type": "code",
        "colab": {}
      },
      "source": [
        "import random\n",
        "\n",
        "IND_SIZE = 10\n",
        "\n",
        "toolbox = base.Toolbox()\n",
        "toolbox.register('attr_hub', random.randint, 0, 5)\n",
        "toolbox.register('individual', tools.initRepeat, creator.Individual, toolbox.attr_hub, n=IND_SIZE)"
      ],
      "execution_count": 0,
      "outputs": []
    },
    {
      "cell_type": "code",
      "metadata": {
        "id": "sDXL_N_3kNs7",
        "colab_type": "code",
        "colab": {
          "base_uri": "https://localhost:8080/",
          "height": 51
        },
        "outputId": "16d5577c-2dec-4ec2-ac18-2af236485442"
      },
      "source": [
        "# testando individuo\n",
        "ind = toolbox.individual()\n",
        "\n",
        "print(type(ind), ind)\n",
        "print(type(ind.fitness), ind.fitness, 'Evaluated' if ind.fitness.valid else 'Not Evaluated')"
      ],
      "execution_count": 23,
      "outputs": [
        {
          "output_type": "stream",
          "text": [
            "<class 'deap.creator.Individual'> [0, 5, 1, 0, 5, 2, 1, 5, 0, 3]\n",
            "<class 'deap.creator.FitnessMin'> () Not Evaluated\n"
          ],
          "name": "stdout"
        }
      ]
    },
    {
      "cell_type": "markdown",
      "metadata": {
        "id": "BvxZqIT-lkJL",
        "colab_type": "text"
      },
      "source": [
        "#### Exemplo permutação"
      ]
    },
    {
      "cell_type": "code",
      "metadata": {
        "id": "bETcSU3Tk8PV",
        "colab_type": "code",
        "colab": {}
      },
      "source": [
        "toolbox.register('indices', random.sample, range(IND_SIZE), IND_SIZE)\n",
        "toolbox.register('individual_perm', tools.initIterate, creator.Individual, toolbox.indices)"
      ],
      "execution_count": 0,
      "outputs": []
    },
    {
      "cell_type": "code",
      "metadata": {
        "id": "kfuS85xomCS7",
        "colab_type": "code",
        "colab": {
          "base_uri": "https://localhost:8080/",
          "height": 51
        },
        "outputId": "75f9af90-683d-444d-81e8-15f995adae74"
      },
      "source": [
        "# testando inidividuo de permutação\n",
        "ind_perm = toolbox.individual_perm()\n",
        "\n",
        "print(type(ind_perm), ind_perm)\n",
        "print(type(ind_perm.fitness), ind_perm.fitness, 'Evaluated' if ind_perm.fitness.valid else 'Not Evaluated')"
      ],
      "execution_count": 21,
      "outputs": [
        {
          "output_type": "stream",
          "text": [
            "<class 'deap.creator.Individual'> [1, 7, 6, 9, 8, 4, 0, 3, 5, 2]\n",
            "<class 'deap.creator.FitnessMin'> () Not Evaluated\n"
          ],
          "name": "stdout"
        }
      ]
    },
    {
      "cell_type": "markdown",
      "metadata": {
        "id": "tofSbj5zoMQ6",
        "colab_type": "text"
      },
      "source": [
        "### Inicializando População"
      ]
    },
    {
      "cell_type": "code",
      "metadata": {
        "id": "eC-x6ITsmFdN",
        "colab_type": "code",
        "colab": {}
      },
      "source": [
        "toolbox.register('population', tools.initRepeat, list, toolbox.individual)"
      ],
      "execution_count": 0,
      "outputs": []
    },
    {
      "cell_type": "code",
      "metadata": {
        "id": "-eB5b5mYoW6s",
        "colab_type": "code",
        "colab": {
          "base_uri": "https://localhost:8080/",
          "height": 289
        },
        "outputId": "4c2ec485-7b7c-40f8-80ec-fe40baa879de"
      },
      "source": [
        "# testando população\n",
        "population = toolbox.population(n=15)\n",
        "\n",
        "pprint(population)\n",
        "print(type(population))"
      ],
      "execution_count": 25,
      "outputs": [
        {
          "output_type": "stream",
          "text": [
            "[[0, 2, 1, 0, 1, 2, 1, 2, 3, 5],\n",
            " [3, 0, 2, 5, 0, 0, 4, 0, 0, 1],\n",
            " [2, 1, 0, 4, 1, 3, 4, 1, 5, 4],\n",
            " [3, 3, 2, 1, 4, 0, 3, 0, 1, 2],\n",
            " [4, 1, 0, 4, 2, 4, 5, 2, 0, 4],\n",
            " [5, 4, 1, 5, 4, 5, 5, 5, 0, 4],\n",
            " [5, 1, 5, 2, 2, 5, 3, 2, 3, 3],\n",
            " [5, 4, 5, 3, 5, 1, 5, 4, 5, 0],\n",
            " [0, 0, 1, 1, 0, 4, 2, 1, 5, 1],\n",
            " [2, 5, 2, 4, 3, 2, 2, 4, 3, 3],\n",
            " [3, 2, 2, 3, 1, 1, 1, 5, 0, 1],\n",
            " [0, 5, 1, 4, 4, 4, 5, 5, 5, 0],\n",
            " [1, 0, 0, 1, 0, 3, 5, 1, 2, 3],\n",
            " [3, 1, 0, 4, 0, 0, 1, 1, 1, 5],\n",
            " [5, 2, 0, 1, 2, 2, 4, 4, 5, 2]]\n",
            "<class 'list'>\n"
          ],
          "name": "stdout"
        }
      ]
    },
    {
      "cell_type": "code",
      "metadata": {
        "id": "VY1bN1bRonbM",
        "colab_type": "code",
        "colab": {}
      },
      "source": [
        ""
      ],
      "execution_count": 0,
      "outputs": []
    }
  ]
}