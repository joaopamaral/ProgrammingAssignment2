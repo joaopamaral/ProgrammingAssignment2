{
  "nbformat": 4,
  "nbformat_minor": 0,
  "metadata": {
    "colab": {
      "name": "examples",
      "provenance": [],
      "toc_visible": true,
      "include_colab_link": true
    },
    "kernelspec": {
      "name": "python3",
      "display_name": "Python 3"
    }
  },
  "cells": [
    {
      "cell_type": "markdown",
      "metadata": {
        "id": "view-in-github",
        "colab_type": "text"
      },
      "source": [
        "<a href=\"https://colab.research.google.com/github/joaopamaral/ProgrammingAssignment2/blob/master/examples.ipynb\" target=\"_parent\"><img src=\"https://colab.research.google.com/assets/colab-badge.svg\" alt=\"Open In Colab\"/></a>"
      ]
    },
    {
      "cell_type": "markdown",
      "metadata": {
        "id": "5eZQo7yKikfu",
        "colab_type": "text"
      },
      "source": [
        "# Entendendo o Framework DEAP"
      ]
    },
    {
      "cell_type": "markdown",
      "metadata": {
        "id": "WQgPD84Eiqnh",
        "colab_type": "text"
      },
      "source": [
        "## Instalando o pacote"
      ]
    },
    {
      "cell_type": "code",
      "metadata": {
        "id": "7kPznyDficB9",
        "colab_type": "code",
        "colab": {
          "base_uri": "https://localhost:8080/",
          "height": 34
        },
        "outputId": "83874246-9aac-48a3-8d97-5126790e97ab"
      },
      "source": [
        "!pip install -q deap"
      ],
      "execution_count": 1,
      "outputs": [
        {
          "output_type": "stream",
          "text": [
            "\u001b[?25l\r\u001b[K     |██▏                             | 10kB 18.9MB/s eta 0:00:01\r\u001b[K     |████▎                           | 20kB 1.8MB/s eta 0:00:01\r\u001b[K     |██████▌                         | 30kB 2.6MB/s eta 0:00:01\r\u001b[K     |████████▋                       | 40kB 1.7MB/s eta 0:00:01\r\u001b[K     |██████████▉                     | 51kB 2.1MB/s eta 0:00:01\r\u001b[K     |█████████████                   | 61kB 2.5MB/s eta 0:00:01\r\u001b[K     |███████████████                 | 71kB 2.9MB/s eta 0:00:01\r\u001b[K     |█████████████████▎              | 81kB 3.3MB/s eta 0:00:01\r\u001b[K     |███████████████████▍            | 92kB 3.7MB/s eta 0:00:01\r\u001b[K     |█████████████████████▋          | 102kB 2.8MB/s eta 0:00:01\r\u001b[K     |███████████████████████▊        | 112kB 2.8MB/s eta 0:00:01\r\u001b[K     |█████████████████████████▉      | 122kB 2.8MB/s eta 0:00:01\r\u001b[K     |████████████████████████████    | 133kB 2.8MB/s eta 0:00:01\r\u001b[K     |██████████████████████████████▏ | 143kB 2.8MB/s eta 0:00:01\r\u001b[K     |████████████████████████████████| 153kB 2.8MB/s \n",
            "\u001b[?25h"
          ],
          "name": "stdout"
        }
      ]
    },
    {
      "cell_type": "code",
      "metadata": {
        "id": "Y2HPqboHjQWD",
        "colab_type": "code",
        "colab": {}
      },
      "source": [
        "from pprint import pprint\n",
        "import numpy as np\n",
        "from deap import base, creator, tools, algorithms"
      ],
      "execution_count": 0,
      "outputs": []
    },
    {
      "cell_type": "markdown",
      "metadata": {
        "id": "HQdXuWe2oH7K",
        "colab_type": "text"
      },
      "source": [
        "## Tipos"
      ]
    },
    {
      "cell_type": "markdown",
      "metadata": {
        "id": "Xbr0-wREiwEy",
        "colab_type": "text"
      },
      "source": [
        "### Definindo Tipos - Fitness e Indivíduo"
      ]
    },
    {
      "cell_type": "code",
      "metadata": {
        "id": "JynCcvhrivJ7",
        "colab_type": "code",
        "colab": {}
      },
      "source": [
        "creator.create(\"FitnessMin\", base.Fitness, weights=(-1.0,))\n",
        "creator.create(\"Individual\", list, fitness=creator.FitnessMin)"
      ],
      "execution_count": 0,
      "outputs": []
    },
    {
      "cell_type": "code",
      "metadata": {
        "id": "j9LeT0G4i6KN",
        "colab_type": "code",
        "colab": {
          "base_uri": "https://localhost:8080/",
          "height": 51
        },
        "outputId": "99e56722-9c27-49e3-b29e-f25f36b79c92"
      },
      "source": [
        "# checando os tipos criados\n",
        "ind_base = creator.Individual()\n",
        "\n",
        "print(type(ind_base), ind_base)\n",
        "print(type(ind_base.fitness), ind_base.fitness)"
      ],
      "execution_count": 4,
      "outputs": [
        {
          "output_type": "stream",
          "text": [
            "<class 'deap.creator.Individual'> []\n",
            "<class 'deap.creator.FitnessMin'> ()\n"
          ],
          "name": "stdout"
        }
      ]
    },
    {
      "cell_type": "markdown",
      "metadata": {
        "id": "SRAC03MRoFTG",
        "colab_type": "text"
      },
      "source": [
        "## Inicialização"
      ]
    },
    {
      "cell_type": "markdown",
      "metadata": {
        "id": "ans4C-i5jqfe",
        "colab_type": "text"
      },
      "source": [
        "### Inicializando indivíduo"
      ]
    },
    {
      "cell_type": "code",
      "metadata": {
        "id": "L_H6cR0NjfY_",
        "colab_type": "code",
        "colab": {}
      },
      "source": [
        "import random\n",
        "\n",
        "IND_SIZE = 10\n",
        "\n",
        "toolbox = base.Toolbox()\n",
        "toolbox.register('attr_hub', random.randint, 0, 5)\n",
        "toolbox.register('individual', tools.initRepeat, creator.Individual, toolbox.attr_hub, n=IND_SIZE)"
      ],
      "execution_count": 0,
      "outputs": []
    },
    {
      "cell_type": "code",
      "metadata": {
        "id": "sDXL_N_3kNs7",
        "colab_type": "code",
        "colab": {
          "base_uri": "https://localhost:8080/",
          "height": 51
        },
        "outputId": "70cf00e6-21c9-430d-e8b7-2d303428aa15"
      },
      "source": [
        "# testando individuo\n",
        "ind = toolbox.individual()\n",
        "\n",
        "print(type(ind), ind)\n",
        "print(type(ind.fitness), ind.fitness, 'Evaluated' if ind.fitness.valid else 'Not Evaluated')"
      ],
      "execution_count": 6,
      "outputs": [
        {
          "output_type": "stream",
          "text": [
            "<class 'deap.creator.Individual'> [5, 2, 0, 4, 5, 3, 2, 2, 1, 1]\n",
            "<class 'deap.creator.FitnessMin'> () Not Evaluated\n"
          ],
          "name": "stdout"
        }
      ]
    },
    {
      "cell_type": "markdown",
      "metadata": {
        "id": "BvxZqIT-lkJL",
        "colab_type": "text"
      },
      "source": [
        "#### Exemplo permutação"
      ]
    },
    {
      "cell_type": "code",
      "metadata": {
        "id": "bETcSU3Tk8PV",
        "colab_type": "code",
        "colab": {}
      },
      "source": [
        "toolbox.register('indices', random.sample, range(IND_SIZE), IND_SIZE)\n",
        "toolbox.register('individual_perm', tools.initIterate, creator.Individual, toolbox.indices)"
      ],
      "execution_count": 0,
      "outputs": []
    },
    {
      "cell_type": "code",
      "metadata": {
        "id": "kfuS85xomCS7",
        "colab_type": "code",
        "colab": {
          "base_uri": "https://localhost:8080/",
          "height": 51
        },
        "outputId": "c2162429-12c4-4284-edfe-652e6be8f471"
      },
      "source": [
        "# testando inidividuo de permutação\n",
        "ind_perm = toolbox.individual_perm()\n",
        "\n",
        "print(type(ind_perm), ind_perm)\n",
        "print(type(ind_perm.fitness), ind_perm.fitness, 'Evaluated' if ind_perm.fitness.valid else 'Not Evaluated')"
      ],
      "execution_count": 8,
      "outputs": [
        {
          "output_type": "stream",
          "text": [
            "<class 'deap.creator.Individual'> [9, 6, 1, 2, 4, 7, 0, 3, 8, 5]\n",
            "<class 'deap.creator.FitnessMin'> () Not Evaluated\n"
          ],
          "name": "stdout"
        }
      ]
    },
    {
      "cell_type": "markdown",
      "metadata": {
        "id": "tofSbj5zoMQ6",
        "colab_type": "text"
      },
      "source": [
        "### Inicializando População"
      ]
    },
    {
      "cell_type": "code",
      "metadata": {
        "id": "eC-x6ITsmFdN",
        "colab_type": "code",
        "colab": {}
      },
      "source": [
        "toolbox.register('population', tools.initRepeat, list, toolbox.individual)"
      ],
      "execution_count": 0,
      "outputs": []
    },
    {
      "cell_type": "code",
      "metadata": {
        "id": "-eB5b5mYoW6s",
        "colab_type": "code",
        "colab": {
          "base_uri": "https://localhost:8080/",
          "height": 289
        },
        "outputId": "b72883da-146a-457b-8574-2d93ebc26978"
      },
      "source": [
        "# testando população\n",
        "population = toolbox.population(n=15)\n",
        "\n",
        "pprint(population)\n",
        "print(type(population), type(population[0]))"
      ],
      "execution_count": 10,
      "outputs": [
        {
          "output_type": "stream",
          "text": [
            "[[0, 1, 1, 2, 3, 1, 2, 2, 1, 0],\n",
            " [3, 3, 2, 4, 1, 3, 0, 0, 2, 0],\n",
            " [3, 4, 0, 0, 1, 3, 1, 4, 4, 3],\n",
            " [4, 0, 0, 0, 1, 3, 0, 4, 3, 2],\n",
            " [5, 4, 4, 0, 2, 3, 2, 3, 5, 0],\n",
            " [2, 3, 4, 2, 4, 3, 5, 4, 4, 5],\n",
            " [1, 4, 3, 5, 5, 2, 5, 2, 4, 2],\n",
            " [0, 3, 5, 1, 2, 3, 0, 2, 3, 1],\n",
            " [2, 0, 5, 3, 5, 5, 3, 0, 2, 3],\n",
            " [1, 0, 1, 4, 5, 3, 4, 1, 0, 3],\n",
            " [3, 0, 4, 4, 0, 2, 5, 3, 0, 0],\n",
            " [0, 4, 0, 2, 4, 4, 3, 0, 1, 4],\n",
            " [4, 3, 5, 2, 4, 1, 0, 0, 4, 3],\n",
            " [5, 0, 0, 5, 1, 5, 3, 0, 1, 2],\n",
            " [0, 1, 1, 4, 3, 3, 0, 5, 1, 4]]\n",
            "<class 'list'> <class 'deap.creator.Individual'>\n"
          ],
          "name": "stdout"
        }
      ]
    },
    {
      "cell_type": "markdown",
      "metadata": {
        "id": "12uRCsbIT-SK",
        "colab_type": "text"
      },
      "source": [
        "## Operadores"
      ]
    },
    {
      "cell_type": "markdown",
      "metadata": {
        "id": "xRr6ZyqYUAuB",
        "colab_type": "text"
      },
      "source": [
        "### Cruzamento"
      ]
    },
    {
      "cell_type": "code",
      "metadata": {
        "id": "VY1bN1bRonbM",
        "colab_type": "code",
        "colab": {
          "base_uri": "https://localhost:8080/",
          "height": 51
        },
        "outputId": "4708a7da-a635-476f-86e9-05868c97c17b"
      },
      "source": [
        "ind1 = toolbox.individual()\n",
        "ind2 = toolbox.individual()\n",
        "\n",
        "print('Individuo 1: ', ind1)\n",
        "print('Individuo 2: ', ind2)\n",
        "\n",
        "def compare_ind(i1, i2):\n",
        "    return ['-' if a == b else 'x' for a, b in zip(i1, i2)]"
      ],
      "execution_count": 111,
      "outputs": [
        {
          "output_type": "stream",
          "text": [
            "Individuo 1:  [1, 0, 1, 5, 4, 4, 4, 0, 4, 4]\n",
            "Individuo 2:  [0, 1, 4, 3, 4, 4, 3, 1, 4, 0]\n"
          ],
          "name": "stdout"
        }
      ]
    },
    {
      "cell_type": "code",
      "metadata": {
        "id": "k8k-5Yzpy89e",
        "colab_type": "code",
        "colab": {
          "base_uri": "https://localhost:8080/",
          "height": 272
        },
        "outputId": "7ffbe5b4-6dad-42cd-f3fa-43531b8b5431"
      },
      "source": [
        "child1, child2 = map(toolbox.clone, [ind1, ind2])\n",
        "child1, child2 = tools.cxOnePoint(child1, child2)\n",
        "print('\\n\\ncxOnePoint')\n",
        "print('Child1: ', child1, compare_ind(child1, ind1))\n",
        "print('Child2: ', child2, compare_ind(child2, ind2))\n",
        "\n",
        "print('\\n\\ncxTwoPoint')\n",
        "child1, child2 = map(toolbox.clone, [ind1, ind2])\n",
        "child1, child2 = tools.cxTwoPoint(child1, child2)\n",
        "print('Child1: ', child1, compare_ind(child1, ind1))\n",
        "print('Child2: ', child2, compare_ind(child2, ind2))\n",
        "\n",
        "print('\\n\\ncxUniform')\n",
        "child1, child2 = map(toolbox.clone, [ind1, ind2])\n",
        "child1, child2 = tools.cxUniform(child1, child2, indpb=0.1)\n",
        "print('Child1: ', child1, compare_ind(child1, ind1))\n",
        "print('Child2: ', child2, compare_ind(child2, ind2))"
      ],
      "execution_count": 112,
      "outputs": [
        {
          "output_type": "stream",
          "text": [
            "\n",
            "\n",
            "cxOnePoint\n",
            "Child1:  [1, 0, 4, 3, 4, 4, 3, 1, 4, 0] ['-', '-', 'x', 'x', '-', '-', 'x', 'x', '-', 'x']\n",
            "Child2:  [0, 1, 1, 5, 4, 4, 4, 0, 4, 4] ['-', '-', 'x', 'x', '-', '-', 'x', 'x', '-', 'x']\n",
            "\n",
            "\n",
            "cxTwoPoint\n",
            "Child1:  [1, 0, 1, 5, 4, 4, 3, 1, 4, 4] ['-', '-', '-', '-', '-', '-', 'x', 'x', '-', '-']\n",
            "Child2:  [0, 1, 4, 3, 4, 4, 4, 0, 4, 0] ['-', '-', '-', '-', '-', '-', 'x', 'x', '-', '-']\n",
            "\n",
            "\n",
            "cxUniform\n",
            "Child1:  [1, 1, 1, 5, 4, 4, 4, 0, 4, 4] ['-', 'x', '-', '-', '-', '-', '-', '-', '-', '-']\n",
            "Child2:  [0, 0, 4, 3, 4, 4, 3, 1, 4, 0] ['-', 'x', '-', '-', '-', '-', '-', '-', '-', '-']\n"
          ],
          "name": "stdout"
        }
      ]
    },
    {
      "cell_type": "code",
      "metadata": {
        "id": "GkajE4tsh8Am",
        "colab_type": "code",
        "colab": {}
      },
      "source": [
        "# Registrando o operador de cruzamento na toolbox\n",
        "toolbox.register(\"mate\", tools.cxTwoPoint)"
      ],
      "execution_count": 0,
      "outputs": []
    },
    {
      "cell_type": "markdown",
      "metadata": {
        "id": "D7FgaaPhi9aD",
        "colab_type": "text"
      },
      "source": [
        "### Mutação"
      ]
    },
    {
      "cell_type": "code",
      "metadata": {
        "id": "mZmE-sNOcFDC",
        "colab_type": "code",
        "colab": {
          "base_uri": "https://localhost:8080/",
          "height": 34
        },
        "outputId": "0d4a4eca-8323-488c-be96-ffbf8e5f8662"
      },
      "source": [
        "ind1 = toolbox.individual()\n",
        "\n",
        "print('Individuo 1: ', ind1)"
      ],
      "execution_count": 113,
      "outputs": [
        {
          "output_type": "stream",
          "text": [
            "Individuo 1:  [2, 2, 5, 2, 2, 4, 2, 4, 2, 2]\n"
          ],
          "name": "stdout"
        }
      ]
    },
    {
      "cell_type": "code",
      "metadata": {
        "id": "v4c_Ntn_zBfh",
        "colab_type": "code",
        "colab": {
          "base_uri": "https://localhost:8080/",
          "height": 309
        },
        "outputId": "e8d317a3-f580-4ad6-aaba-1490ec0861be"
      },
      "source": [
        "child1 = toolbox.clone(ind1)\n",
        "child1 = tools.mutGaussian(child1, mu=2, sigma=2, indpb=0.5)[0]\n",
        "print('\\n\\nmutGaussian')\n",
        "print('Child1: ', child1, compare_ind(child1, ind1))\n",
        "\n",
        "child1 = toolbox.clone(ind1)\n",
        "child1 = tools.mutShuffleIndexes(child1, indpb=0.5)[0]\n",
        "print('\\n\\nmutShuffleIndexes')\n",
        "print('Child1: ', child1, compare_ind(child1, ind1))\n",
        "\n",
        "child1 = toolbox.clone(ind1)\n",
        "child1 = tools.mutFlipBit(child1, indpb=0.5)[0]\n",
        "print('\\n\\nmutFlipBit')\n",
        "print('Child1: ', child1, compare_ind(child1, ind1))\n",
        "\n",
        "child1 = toolbox.clone(ind1)\n",
        "child1 = tools.mutUniformInt(child1, low=0, up= 5, indpb=0.5)[0]\n",
        "print('\\n\\nmutUniformInt')\n",
        "print('Child1: ', child1, compare_ind(child1, ind1))"
      ],
      "execution_count": 114,
      "outputs": [
        {
          "output_type": "stream",
          "text": [
            "\n",
            "\n",
            "mutGaussian\n",
            "Child1:  [2, 4.162989492214097, 6.885634837182556, 3.4500118938629263, 3.4843164031789544, 4.619726788525982, 2, 7.112908224306887, 2.730374937074779, 2] ['-', 'x', 'x', 'x', 'x', 'x', '-', 'x', 'x', '-']\n",
            "\n",
            "\n",
            "mutShuffleIndexes\n",
            "Child1:  [2, 2, 5, 2, 2, 2, 4, 4, 2, 2] ['-', '-', '-', '-', '-', 'x', 'x', '-', '-', '-']\n",
            "\n",
            "\n",
            "mutFlipBit\n",
            "Child1:  [2, 0, 0, 0, 0, 0, 2, 4, 0, 2] ['-', 'x', 'x', 'x', 'x', 'x', '-', '-', 'x', '-']\n",
            "\n",
            "\n",
            "mutUniformInt\n",
            "Child1:  [3, 3, 5, 2, 4, 4, 2, 1, 2, 2] ['x', 'x', '-', '-', 'x', '-', '-', 'x', '-', '-']\n"
          ],
          "name": "stdout"
        }
      ]
    },
    {
      "cell_type": "code",
      "metadata": {
        "id": "QAyOAihDjhy1",
        "colab_type": "code",
        "colab": {}
      },
      "source": [
        "# Registrando o operador de cruzamento na toolbox\n",
        "toolbox.register(\"mutate\", tools.mutUniformInt, low=0, up=5, indpb=0.1)"
      ],
      "execution_count": 0,
      "outputs": []
    },
    {
      "cell_type": "markdown",
      "metadata": {
        "id": "-9tMg_ogqv9o",
        "colab_type": "text"
      },
      "source": [
        "## Avaliação"
      ]
    },
    {
      "cell_type": "code",
      "metadata": {
        "id": "Ddwm9Khimhtw",
        "colab_type": "code",
        "colab": {
          "base_uri": "https://localhost:8080/",
          "height": 85
        },
        "outputId": "3ad015ca-af75-4342-8c85-eaeea304a96b"
      },
      "source": [
        "ind1 = toolbox.individual()\n",
        "print('Individuo 1: ', ind1)\n",
        "\n",
        "def my_evaluation1(individual):\n",
        "    return sum(individual), \n",
        "\n",
        "print(f'\\nEvaluated Fitness: {ind1.fitness.valid}')\n",
        "ind1.fitness.values = my_evaluation1(ind1)\n",
        "print(f'Evaluated Fitness: {ind1.fitness.valid} | Value: {ind1.fitness}')"
      ],
      "execution_count": 103,
      "outputs": [
        {
          "output_type": "stream",
          "text": [
            "Individuo 1:  [1, 3, 4, 1, 3, 1, 3, 5, 0, 0]\n",
            "\n",
            "Evaluated Fitness: False\n",
            "Evaluated Fitness: True | Value: (21.0,)\n"
          ],
          "name": "stdout"
        }
      ]
    },
    {
      "cell_type": "code",
      "metadata": {
        "id": "LH_IVUnLxgjV",
        "colab_type": "code",
        "colab": {}
      },
      "source": [
        ""
      ],
      "execution_count": 0,
      "outputs": []
    }
  ]
}